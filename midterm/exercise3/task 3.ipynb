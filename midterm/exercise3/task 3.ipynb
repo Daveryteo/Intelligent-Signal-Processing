{
 "cells": [
  {
   "cell_type": "markdown",
   "metadata": {},
   "source": [
    "<h1>Task 3: Create a more sophisticated algorithm for embedding hidden messages </h1>"
   ]
  },
  {
   "cell_type": "markdown",
   "metadata": {},
   "source": [
    "Import libaries"
   ]
  },
  {
   "cell_type": "code",
   "execution_count": 1,
   "metadata": {},
   "outputs": [],
   "source": [
    "import wave\n",
    "import array"
   ]
  },
  {
   "cell_type": "markdown",
   "metadata": {},
   "source": [
    "Creating the function for embedding the message into the sound file"
   ]
  },
  {
   "cell_type": "code",
   "execution_count": 2,
   "metadata": {},
   "outputs": [],
   "source": [
    "def kthLeastSignificantBit(soundfile, newfile, msg, k):\n",
    "    #ensure k is less than 8 so that most significant bit is not changed and greater than 0\n",
    "    if k > 0 and k < 8:\n",
    "        #reading the file, getting sound paramters and converting it into a byte array\n",
    "        sound = wave.open(soundfile, mode=\"rb\")\n",
    "        sound_params = sound.getparams()\n",
    "        byteArray = bytearray(list(sound.readframes(sound.getnframes())))\n",
    "        sound.close()\n",
    "        \n",
    "        #find the difference in length between the end of the msg to the end of the song\n",
    "        padding = int((len(byteArray) - len(msg) * 8 * 8) / 8)\n",
    "        \n",
    "        #pad the message with #\n",
    "        msg = msg + padding * '#'\n",
    "        \n",
    "        #convert the text to an array\n",
    "        #First we iterate through the message to get the characters\n",
    "        #We will then convert the characters to unicode and then converting the unicode to binary\n",
    "        #We will then strip 0b which is the prefix we get after converting it to binary and right align the string\n",
    "        #Finally we will use the map function to convert all of them to integers\n",
    "        bitsArray = list(map(int, ''.join([bin(ord(i)).lstrip('0b').rjust(8,'0') for i in msg])))\n",
    "            \n",
    "        #For each bit in the bit array, we take the same byte in the array and set it all to 0 until the nth bit from the right\n",
    "        #Next, we will do a left shift of the bit by k places so that it will be located at the k position\n",
    "        #The OR operator will then set the kth least significant bit to the bit value\n",
    "        for i, bit in enumerate(bitsArray):\n",
    "            byteArray[i] = (byteArray[i] & 255 - 2**k) | bit << k\n",
    "            \n",
    "        #get the final byte array and ensure that it cannot be modified\n",
    "        byte_array_write = bytes(byteArray)\n",
    "        \n",
    "        #write the new sound with the embedded messge in\n",
    "        with wave.open(newfile, 'wb') as writefile:\n",
    "            writefile.setparams(sound_params)\n",
    "            writefile.writeframes(byte_array_write)\n",
    "            \n",
    "    else:\n",
    "        print(\"k should be between 0 and 8\")"
   ]
  },
  {
   "cell_type": "markdown",
   "metadata": {},
   "source": [
    "Creating the function that would extract the message from the sound file"
   ]
  },
  {
   "cell_type": "code",
   "execution_count": 3,
   "metadata": {},
   "outputs": [],
   "source": [
    "def extractMessage(soundfile, k):\n",
    "    #ensure that k is less than 8 and greater than 0\n",
    "    if k > 0 and k < 8:\n",
    "        \n",
    "        #read the file and create the byte array\n",
    "        sound = wave.open(soundfile, mode=\"rb\")\n",
    "        byteArray = array.array(\"B\")\n",
    "        byteArray.fromstring(sound.readframes(sound.getnframes()))\n",
    "        sound.close()\n",
    "        \n",
    "        extracted = []\n",
    "        \n",
    "        #iterate through the byteArray finding the nth bit which should be set to 1\n",
    "        #we would then do a right shift of the bit by k places so that we can extract the value\n",
    "        for i in range(len(byteArray)):\n",
    "            extracted.append((byteArray[i] & 2 ** k) >> k)\n",
    "        \n",
    "        #next we change the byte array back to a string\n",
    "        #we loop through the extracted array in intervals of 8bits\n",
    "        #we then use the map function to iterate through the entire byte and convert it into a string\n",
    "        #next, we iterate through the map object and concatenate it into an 8bit string\n",
    "        #finally we convert the 8bit string into an integer and then concatenate it into a string\n",
    "        finalString = \"\"\n",
    "        for i in range (0, len(extracted), 8):\n",
    "            firstString = map(str, extracted[i : i + 8])\n",
    "            secondString = \"\"\n",
    "            for char in firstString:\n",
    "                secondString += char\n",
    "            thirdString = (int(secondString, 2))\n",
    "            finalString += chr(thirdString)\n",
    "        \n",
    "        #split the string using # and getting the first element to get the secret message\n",
    "        hidden_message = finalString.split(\"#\")[0]\n",
    "        print(hidden_message)\n",
    "        \n",
    "    else:\n",
    "        print(\"k should be between 0 and 8\")"
   ]
  },
  {
   "cell_type": "markdown",
   "metadata": {},
   "source": [
    "Testing the encoding of the message and let k be 4"
   ]
  },
  {
   "cell_type": "code",
   "execution_count": 4,
   "metadata": {},
   "outputs": [],
   "source": [
    "soundfile = \"sounds/Ex3_sound5.wav\"\n",
    "newfile = \"sounds/Ex3_sound5_embedded.wav\"\n",
    "message = \"Father Christmas does not exist\"\n",
    "\n",
    "kthLeastSignificantBit(soundfile, newfile, message, 4)"
   ]
  },
  {
   "cell_type": "markdown",
   "metadata": {},
   "source": [
    "Now testing the extracting of the message where k = 4"
   ]
  },
  {
   "cell_type": "code",
   "execution_count": 5,
   "metadata": {},
   "outputs": [
    {
     "name": "stderr",
     "output_type": "stream",
     "text": [
      "<ipython-input-5-f1d015504127>:1: DeprecationWarning: fromstring() is deprecated. Use frombytes() instead.\n",
      "  extractMessage(newfile, 4)\n"
     ]
    },
    {
     "name": "stdout",
     "output_type": "stream",
     "text": [
      "Father Christmas does not exist\n"
     ]
    }
   ],
   "source": [
    "extractMessage(newfile, 4)"
   ]
  }
 ],
 "metadata": {
  "kernelspec": {
   "display_name": "Python 3 (ipykernel)",
   "language": "python",
   "name": "python3"
  },
  "language_info": {
   "codemirror_mode": {
    "name": "ipython",
    "version": 3
   },
   "file_extension": ".py",
   "mimetype": "text/x-python",
   "name": "python",
   "nbconvert_exporter": "python",
   "pygments_lexer": "ipython3",
   "version": "3.9.13"
  }
 },
 "nbformat": 4,
 "nbformat_minor": 4
}
