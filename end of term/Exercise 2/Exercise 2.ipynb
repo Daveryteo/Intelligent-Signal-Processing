{
 "cells": [
  {
   "cell_type": "markdown",
   "id": "d8e43a8f",
   "metadata": {},
   "source": [
    "<h1>Exercise 2</h1>"
   ]
  },
  {
   "cell_type": "code",
   "execution_count": 1,
   "id": "4d27d93e",
   "metadata": {},
   "outputs": [],
   "source": [
    "import math\n",
    "import wave"
   ]
  },
  {
   "cell_type": "markdown",
   "id": "16b31cc2",
   "metadata": {},
   "source": [
    "<h2>Rice encoding algorithm functions</h2>"
   ]
  },
  {
   "cell_type": "code",
   "execution_count": 2,
   "id": "093eaca3",
   "metadata": {},
   "outputs": [],
   "source": [
    "def unaryConversion(count):\n",
    "    number = ''\n",
    "    #we loop as many times as the number and add 1 unary number string\n",
    "    for i in range (count):\n",
    "        number += '1'\n",
    "    #finally add one 0 and return the number\n",
    "    number += '0'\n",
    "    return number\n",
    "\n",
    "#rice coding algorithm\n",
    "def rice_encode(s, k):\n",
    "    #calculate m\n",
    "    m = 2**k\n",
    "    \n",
    "    #calculate r2 by getting the quotient and coverting it to unary\n",
    "    q = int(math.floor(s / m))\n",
    "    r2 = unaryConversion(q)\n",
    "    \n",
    "    #get remainder to make r1 and convert to binary\n",
    "    remainder = int(s % m)\n",
    "    r1 = str(bin(remainder).replace(\"0b\", \"\"))\n",
    "    \n",
    "    #concatenate r2 and r1 to get the encoded value\n",
    "    encoded = r2 + r1\n",
    "    \n",
    "    return encoded"
   ]
  },
  {
   "cell_type": "markdown",
   "id": "4880e9de",
   "metadata": {},
   "source": [
    "<h2>Encoding function</h2>"
   ]
  },
  {
   "cell_type": "code",
   "execution_count": 3,
   "id": "7e0f0447",
   "metadata": {},
   "outputs": [],
   "source": [
    "def encode_file(readfile, writefile, k):\n",
    "    #read the file and get the byte array then close the file\n",
    "    reader = wave.open(readfile, 'rb')\n",
    "    byteArray = reader.readframes(reader.getnframes())\n",
    "    reader.close()\n",
    "    \n",
    "    #create a new string to store the encoded bits\n",
    "    encodedbits = []\n",
    "    \n",
    "    #loop through the byte array and for each byte we encode it with rice encoding\n",
    "    #we add the encoded byte to the list\n",
    "    for byte in byteArray:\n",
    "        encodedbits.append(rice_encode(byte, k))\n",
    "        \n",
    "    #finally write it to the new file and join it with space to help when decoding\n",
    "    with open(writefile, 'w') as wf:\n",
    "        wf.write(' '.join(encodedbits))"
   ]
  },
  {
   "cell_type": "markdown",
   "id": "02fa825b",
   "metadata": {},
   "source": [
    "Rice encoding with 4 bits"
   ]
  },
  {
   "cell_type": "code",
   "execution_count": 4,
   "id": "cd080c2a",
   "metadata": {},
   "outputs": [],
   "source": [
    "readfile = \"assets/Sound1.wav\"\n",
    "writefile = \"assets/Sound1_Enc.ex2\"\n",
    "encode_file(readfile, writefile, 4)"
   ]
  },
  {
   "cell_type": "code",
   "execution_count": 5,
   "id": "67715e4c",
   "metadata": {},
   "outputs": [],
   "source": [
    "readfile2 = \"assets/Sound2.wav\"\n",
    "writefile3 = \"assets/Sound2_Enc.ex2\"\n",
    "encode_file(readfile2, writefile3, 4)"
   ]
  },
  {
   "cell_type": "markdown",
   "id": "7ef47572",
   "metadata": {},
   "source": [
    "Rice encoding with 2 bits"
   ]
  },
  {
   "cell_type": "code",
   "execution_count": 6,
   "id": "7ad2768f",
   "metadata": {},
   "outputs": [],
   "source": [
    "writefile2 = \"assets/Sound1_Enc2.ex2\"\n",
    "encode_file(readfile, writefile2, 2)"
   ]
  },
  {
   "cell_type": "code",
   "execution_count": 7,
   "id": "2c1110b8",
   "metadata": {},
   "outputs": [],
   "source": [
    "writefile4 = \"assets/Sound2_Enc2.ex2\"\n",
    "encode_file(readfile2, writefile4, 2)"
   ]
  },
  {
   "cell_type": "markdown",
   "id": "e739687b",
   "metadata": {},
   "source": [
    "<h2>Rice algorithm decoder </h2>"
   ]
  },
  {
   "cell_type": "code",
   "execution_count": 8,
   "id": "f0d7013a",
   "metadata": {},
   "outputs": [],
   "source": [
    "def rice_decode(s, k):\n",
    "    #set m\n",
    "    m = 2 ** k\n",
    "    \n",
    "    #convert s to a list so that we can loop through to count the number of 1 before 0\n",
    "    s_list = list(s)\n",
    "    \n",
    "    q = 0\n",
    "    \n",
    "    #we loop through the list and count the number of 1 before 0\n",
    "    for i in s_list:\n",
    "        if i == '1':\n",
    "            q += 1\n",
    "        else:\n",
    "            break\n",
    "    \n",
    "            \n",
    "    #get the remaining bits after the first 0 and convert to decimal from binary\n",
    "    r_bin = ''.join(s_list[q:])\n",
    "    r = int(r_bin, 2)\n",
    "    \n",
    "    #decode s by using q x m + r\n",
    "    decoded = q * m + r\n",
    "    \n",
    "    return decoded"
   ]
  },
  {
   "cell_type": "markdown",
   "id": "1a4bcf90",
   "metadata": {},
   "source": [
    "<h2>Decoding function</h2>"
   ]
  },
  {
   "cell_type": "code",
   "execution_count": 9,
   "id": "b495720f",
   "metadata": {},
   "outputs": [],
   "source": [
    "def decode_file(readfile, writefile, k):\n",
    "    #create a list and append each block of bits to the list by splitting using the space\n",
    "    byte_list = []\n",
    "    \n",
    "    with open(readfile, \"r\") as rf:\n",
    "        byte_list = rf.read().split(' ')\n",
    "    \n",
    "    #create an array to store the decoded bytes\n",
    "    decoded_string = []\n",
    "    \n",
    "    for byte in byte_list:\n",
    "        decoded_string.append(rice_decode(byte, k))\n",
    "    \n",
    "    #convert the string array to a byte array\n",
    "    decoded_array = bytes(decoded_string)\n",
    "    \n",
    "    #write the byte array to a file\n",
    "    with open(writefile, 'bx') as wf:\n",
    "        wf.write(decoded_array)"
   ]
  },
  {
   "cell_type": "markdown",
   "id": "4275189e",
   "metadata": {},
   "source": [
    "Decoding with 4 bits"
   ]
  },
  {
   "cell_type": "code",
   "execution_count": 10,
   "id": "f907d6e9",
   "metadata": {},
   "outputs": [],
   "source": [
    "originalFile = \"assets/Sound1.wav\"\n",
    "readFile = \"assets/Sound1_Enc.ex2\"\n",
    "writeFile = \"assets/Sound1_EncDec.wav\"\n",
    "decode_file(readFile, writeFile, 4)"
   ]
  },
  {
   "cell_type": "code",
   "execution_count": 11,
   "id": "d781e2b1",
   "metadata": {},
   "outputs": [],
   "source": [
    "originalFile2 = \"assets/Sound2.wav\"\n",
    "readFile3 = \"assets/Sound2_Enc.ex2\"\n",
    "writeFile3 = \"assets/Sound2_EncDec.wav\"\n",
    "decode_file(readFile3, writeFile3, 4)"
   ]
  },
  {
   "cell_type": "markdown",
   "id": "e2ef485c",
   "metadata": {},
   "source": [
    "Decoding with 2 bits"
   ]
  },
  {
   "cell_type": "code",
   "execution_count": 12,
   "id": "4d5076bc",
   "metadata": {},
   "outputs": [],
   "source": [
    "readFile2 = \"assets/Sound1_Enc2.ex2\"\n",
    "writeFile2 = \"assets/Sound1_EncDec2.wav\"\n",
    "decode_file(readFile2, writeFile2, 2)"
   ]
  },
  {
   "cell_type": "code",
   "execution_count": 13,
   "id": "584655f0",
   "metadata": {},
   "outputs": [],
   "source": [
    "readFile4 = \"assets/Sound2_Enc2.ex2\"\n",
    "writeFile4 = \"assets/Sound2_EncDec2.wav\"\n",
    "decode_file(readFile4, writeFile4, 2)"
   ]
  },
  {
   "cell_type": "markdown",
   "id": "c4466761",
   "metadata": {},
   "source": [
    "<h2>Further Implementation</h2>"
   ]
  },
  {
   "cell_type": "markdown",
   "id": "82794f99",
   "metadata": {},
   "source": [
    "I used k = 8 since the length of encoding 255 which is the largest value in a byte is the smallest amongst all the other values of k"
   ]
  },
  {
   "cell_type": "code",
   "execution_count": 14,
   "id": "eaca01a4",
   "metadata": {},
   "outputs": [],
   "source": [
    "readfile = \"assets/Sound1.wav\"\n",
    "writefile = \"assets/Sound1_Enc3.ex2\"\n",
    "encode_file(readfile, writefile, 8)"
   ]
  },
  {
   "cell_type": "code",
   "execution_count": 15,
   "id": "46c9cd5d",
   "metadata": {},
   "outputs": [],
   "source": [
    "readfile2 = \"assets/Sound2.wav\"\n",
    "writefile3 = \"assets/Sound2_Enc3.ex2\"\n",
    "encode_file(readfile2, writefile3, 8)"
   ]
  }
 ],
 "metadata": {
  "kernelspec": {
   "display_name": "Python 3 (ipykernel)",
   "language": "python",
   "name": "python3"
  },
  "language_info": {
   "codemirror_mode": {
    "name": "ipython",
    "version": 3
   },
   "file_extension": ".py",
   "mimetype": "text/x-python",
   "name": "python",
   "nbconvert_exporter": "python",
   "pygments_lexer": "ipython3",
   "version": "3.9.15"
  }
 },
 "nbformat": 4,
 "nbformat_minor": 5
}
